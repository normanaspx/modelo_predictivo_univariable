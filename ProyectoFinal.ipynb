{
 "cells": [
  {
   "cell_type": "markdown",
   "id": "tired-handling",
   "metadata": {},
   "source": [
    "# Proyecto Ciencia de datos en python"
   ]
  },
  {
   "cell_type": "markdown",
   "id": "oriented-sunset",
   "metadata": {},
   "source": [
    "17001455 - Norman Daniel Vicente Orellana"
   ]
  },
  {
   "cell_type": "markdown",
   "id": "unique-provincial",
   "metadata": {},
   "source": [
    "## Configuracion de entorno"
   ]
  },
  {
   "cell_type": "code",
   "execution_count": 1,
   "id": "pretty-nomination",
   "metadata": {},
   "outputs": [],
   "source": [
    "import numpy as np"
   ]
  },
  {
   "cell_type": "code",
   "execution_count": 2,
   "id": "innocent-alloy",
   "metadata": {},
   "outputs": [],
   "source": [
    "import sklearn\n",
    "from sklearn import metrics"
   ]
  },
  {
   "cell_type": "code",
   "execution_count": 3,
   "id": "sharing-chase",
   "metadata": {},
   "outputs": [],
   "source": [
    "import seaborn as sns"
   ]
  },
  {
   "cell_type": "code",
   "execution_count": 4,
   "id": "fatal-central",
   "metadata": {},
   "outputs": [],
   "source": [
    "import matplotlib.pyplot as plt"
   ]
  },
  {
   "cell_type": "markdown",
   "id": "compatible-navigation",
   "metadata": {},
   "source": [
    "## Cargando el dataset"
   ]
  },
  {
   "cell_type": "code",
   "execution_count": 5,
   "id": "operating-suggestion",
   "metadata": {},
   "outputs": [],
   "source": [
    "data = np.load('proyecto_training_data.npy')"
   ]
  },
  {
   "cell_type": "markdown",
   "id": "foreign-pharmacology",
   "metadata": {},
   "source": [
    "## Analisis exploratorio de datos"
   ]
  },
  {
   "cell_type": "code",
   "execution_count": 6,
   "id": "continuing-state",
   "metadata": {},
   "outputs": [
    {
     "name": "stdout",
     "output_type": "stream",
     "text": [
      "Filas 1460 Columnas 6\n"
     ]
    }
   ],
   "source": [
    "dim = data.shape \n",
    "print('Filas',dim[0],'Columnas', dim[1])"
   ]
  },
  {
   "cell_type": "markdown",
   "id": "monthly-myrtle",
   "metadata": {},
   "source": [
    "## Training data y test data"
   ]
  },
  {
   "cell_type": "code",
   "execution_count": 7,
   "id": "exact-worthy",
   "metadata": {},
   "outputs": [],
   "source": [
    "training_data = data[0:1167]\n",
    "test_data = data[1168:1460]"
   ]
  },
  {
   "cell_type": "code",
   "execution_count": 8,
   "id": "creative-static",
   "metadata": {},
   "outputs": [
    {
     "name": "stdout",
     "output_type": "stream",
     "text": [
      "Training data: (1167, 6)\n",
      "Test data: (292, 6)\n"
     ]
    }
   ],
   "source": [
    "print('Training data:',training_data.shape)\n",
    "print('Test data:',test_data.shape)"
   ]
  },
  {
   "cell_type": "markdown",
   "id": "front-fetish",
   "metadata": {},
   "source": [
    "### Sale price"
   ]
  },
  {
   "cell_type": "code",
   "execution_count": 9,
   "id": "typical-intellectual",
   "metadata": {},
   "outputs": [],
   "source": [
    "sales_price = training_data[:,0]"
   ]
  },
  {
   "cell_type": "code",
   "execution_count": 10,
   "id": "undefined-baghdad",
   "metadata": {},
   "outputs": [],
   "source": [
    "def measures(arr):\n",
    "    median = np.nanmean(arr)\n",
    "    min_value = np.nanmin(arr)\n",
    "    max_value = np.nanmax(arr)\n",
    "    range = np.ptp(arr)\n",
    "    desvest = np.nanstd(arr)\n",
    "    print('Media:',median,'\\nValor Max:',max_value,'\\nValor Minimo:',min_value,'\\nRango:',range,'\\nDesviacion estandar:', desvest)"
   ]
  },
  {
   "cell_type": "markdown",
   "id": "human-letter",
   "metadata": {},
   "source": [
    "#### Analisis"
   ]
  },
  {
   "cell_type": "code",
   "execution_count": 11,
   "id": "leading-vocabulary",
   "metadata": {},
   "outputs": [
    {
     "name": "stdout",
     "output_type": "stream",
     "text": [
      "Media: 180596.78149100256 \n",
      "Valor Max: 755000.0 \n",
      "Valor Minimo: 34900.0 \n",
      "Rango: 720100.0 \n",
      "Desviacion estandar: 78815.38444724803\n"
     ]
    }
   ],
   "source": [
    "measures(sales_price)"
   ]
  },
  {
   "cell_type": "code",
   "execution_count": 12,
   "id": "simplified-elder",
   "metadata": {},
   "outputs": [
    {
     "data": {
      "text/plain": [
       "<AxesSubplot:ylabel='Count'>"
      ]
     },
     "execution_count": 12,
     "metadata": {},
     "output_type": "execute_result"
    },
    {
     "data": {
      "image/png": "[encoded data removed]",
      "text/plain": [
       "<Figure size 432x288 with 1 Axes>"
      ]
     },
     "metadata": {
      "needs_background": "light"
     },
     "output_type": "display_data"
    }
   ],
   "source": [
    "sns.histplot(sales_price,kde=True)"
   ]
  },
  {
   "cell_type": "markdown",
   "id": "annoying-vintage",
   "metadata": {},
   "source": [
    "### Overall Quality"
   ]
  },
  {
   "cell_type": "code",
   "execution_count": 13,
   "id": "adapted-payment",
   "metadata": {},
   "outputs": [],
   "source": [
    "overall_qual = training_data[:,1]"
   ]
  },
  {
   "cell_type": "markdown",
   "id": "drawn-belarus",
   "metadata": {},
   "source": [
    "#### Analisis"
   ]
  },
  {
   "cell_type": "code",
   "execution_count": 14,
   "id": "forty-blues",
   "metadata": {},
   "outputs": [
    {
     "name": "stdout",
     "output_type": "stream",
     "text": [
      "Media: 6.1011139674378745 \n",
      "Valor Max: 10.0 \n",
      "Valor Minimo: 1.0 \n",
      "Rango: 9.0 \n",
      "Desviacion estandar: 1.3780220515291879\n"
     ]
    }
   ],
   "source": [
    "measures(overall_qual)"
   ]
  },
  {
   "cell_type": "code",
   "execution_count": 15,
   "id": "infrared-madness",
   "metadata": {},
   "outputs": [
    {
     "data": {
      "text/plain": [
       "<AxesSubplot:ylabel='Count'>"
      ]
     },
     "execution_count": 15,
     "metadata": {},
     "output_type": "execute_result"
    },
    {
     "data": {
      "image/png": "[encoded data removed]",
      "text/plain": [
       "<Figure size 432x288 with 1 Axes>"
      ]
     },
     "metadata": {
      "needs_background": "light"
     },
     "output_type": "display_data"
    }
   ],
   "source": [
    "sns.histplot(overall_qual,discrete=True)"
   ]
  },
  {
   "cell_type": "markdown",
   "id": "chicken-franklin",
   "metadata": {},
   "source": [
    "### First Floor square feet"
   ]
  },
  {
   "cell_type": "code",
   "execution_count": 16,
   "id": "unable-vintage",
   "metadata": {},
   "outputs": [],
   "source": [
    "first_floor = training_data[:,2]"
   ]
  },
  {
   "cell_type": "markdown",
   "id": "varied-storm",
   "metadata": {},
   "source": [
    "#### Analisis"
   ]
  },
  {
   "cell_type": "code",
   "execution_count": 17,
   "id": "parallel-storage",
   "metadata": {},
   "outputs": [
    {
     "name": "stdout",
     "output_type": "stream",
     "text": [
      "Media: 1156.4927163667523 \n",
      "Valor Max: 3228.0 \n",
      "Valor Minimo: 334.0 \n",
      "Rango: 2894.0 \n",
      "Desviacion estandar: 373.7357021399761\n"
     ]
    }
   ],
   "source": [
    "measures(first_floor)"
   ]
  },
  {
   "cell_type": "code",
   "execution_count": 18,
   "id": "handled-volume",
   "metadata": {},
   "outputs": [
    {
     "data": {
      "text/plain": [
       "<AxesSubplot:ylabel='Count'>"
      ]
     },
     "execution_count": 18,
     "metadata": {},
     "output_type": "execute_result"
    },
    {
     "data": {
      "image/png": "[encoded data removed]",
      "text/plain": [
       "<Figure size 432x288 with 1 Axes>"
      ]
     },
     "metadata": {
      "needs_background": "light"
     },
     "output_type": "display_data"
    }
   ],
   "source": [
    "sns.histplot(first_floor,kde=True)"
   ]
  },
  {
   "cell_type": "markdown",
   "id": "hired-affect",
   "metadata": {},
   "source": [
    "### Total Rooms"
   ]
  },
  {
   "cell_type": "code",
   "execution_count": 19,
   "id": "willing-screw",
   "metadata": {},
   "outputs": [],
   "source": [
    "total_rooms = training_data[:,3]"
   ]
  },
  {
   "cell_type": "markdown",
   "id": "romance-programmer",
   "metadata": {},
   "source": [
    "#### Analisis"
   ]
  },
  {
   "cell_type": "code",
   "execution_count": 20,
   "id": "sacred-shore",
   "metadata": {},
   "outputs": [
    {
     "name": "stdout",
     "output_type": "stream",
     "text": [
      "Media: 6.485004284490146 \n",
      "Valor Max: 14.0 \n",
      "Valor Minimo: 2.0 \n",
      "Rango: 12.0 \n",
      "Desviacion estandar: 1.6090701501344253\n"
     ]
    }
   ],
   "source": [
    "measures(total_rooms)"
   ]
  },
  {
   "cell_type": "code",
   "execution_count": 21,
   "id": "regular-section",
   "metadata": {},
   "outputs": [
    {
     "data": {
      "text/plain": [
       "<AxesSubplot:ylabel='Count'>"
      ]
     },
     "execution_count": 21,
     "metadata": {},
     "output_type": "execute_result"
    },
    {
     "data": {
      "image/png": "[encoded data removed]",
      "text/plain": [
       "<Figure size 432x288 with 1 Axes>"
      ]
     },
     "metadata": {
      "needs_background": "light"
     },
     "output_type": "display_data"
    }
   ],
   "source": [
    "sns.histplot(total_rooms, discrete=True)"
   ]
  },
  {
   "cell_type": "markdown",
   "id": "chronic-beach",
   "metadata": {},
   "source": [
    "#### Observaciones\n",
    "Existen un dato atipico que es 856"
   ]
  },
  {
   "cell_type": "markdown",
   "id": "grand-enough",
   "metadata": {},
   "source": [
    "### Year Built"
   ]
  },
  {
   "cell_type": "code",
   "execution_count": 22,
   "id": "convinced-communication",
   "metadata": {},
   "outputs": [],
   "source": [
    "year_built = training_data[:, 4]"
   ]
  },
  {
   "cell_type": "markdown",
   "id": "italian-property",
   "metadata": {},
   "source": [
    "#### Analisis"
   ]
  },
  {
   "cell_type": "code",
   "execution_count": 23,
   "id": "renewable-warner",
   "metadata": {},
   "outputs": [
    {
     "name": "stdout",
     "output_type": "stream",
     "text": [
      "Media: 1971.426735218509 \n",
      "Valor Max: 2010.0 \n",
      "Valor Minimo: 1875.0 \n",
      "Rango: 135.0 \n",
      "Desviacion estandar: 29.940035556112328\n"
     ]
    }
   ],
   "source": [
    "measures(year_built)"
   ]
  },
  {
   "cell_type": "code",
   "execution_count": 24,
   "id": "stuffed-gallery",
   "metadata": {},
   "outputs": [
    {
     "data": {
      "text/plain": [
       "<AxesSubplot:ylabel='Count'>"
      ]
     },
     "execution_count": 24,
     "metadata": {},
     "output_type": "execute_result"
    },
    {
     "data": {
      "image/png": "[encoded data removed]",
      "text/plain": [
       "<Figure size 432x288 with 1 Axes>"
      ]
     },
     "metadata": {
      "needs_background": "light"
     },
     "output_type": "display_data"
    }
   ],
   "source": [
    "sns.histplot(year_built)"
   ]
  },
  {
   "cell_type": "markdown",
   "id": "promotional-delta",
   "metadata": {},
   "source": [
    "### LotFrontage"
   ]
  },
  {
   "cell_type": "code",
   "execution_count": 25,
   "id": "worthy-contribution",
   "metadata": {},
   "outputs": [],
   "source": [
    "lot_frontage =np.nan_to_num(training_data[:, 5], nan=1)"
   ]
  },
  {
   "cell_type": "markdown",
   "id": "focal-bronze",
   "metadata": {},
   "source": [
    "#### Analisis\n"
   ]
  },
  {
   "cell_type": "code",
   "execution_count": 26,
   "id": "ideal-floor",
   "metadata": {},
   "outputs": [
    {
     "name": "stdout",
     "output_type": "stream",
     "text": [
      "Media: 57.7866323907455 \n",
      "Valor Max: 313.0 \n",
      "Valor Minimo: 1.0 \n",
      "Rango: 312.0 \n",
      "Desviacion estandar: 33.838594043526456\n"
     ]
    }
   ],
   "source": [
    "measures(lot_frontage)"
   ]
  },
  {
   "cell_type": "code",
   "execution_count": 27,
   "id": "combined-expansion",
   "metadata": {},
   "outputs": [
    {
     "data": {
      "text/plain": [
       "<AxesSubplot:ylabel='Count'>"
      ]
     },
     "execution_count": 27,
     "metadata": {},
     "output_type": "execute_result"
    },
    {
     "data": {
      "image/png": "[encoded data removed]",
      "text/plain": [
       "<Figure size 432x288 with 1 Axes>"
      ]
     },
     "metadata": {
      "needs_background": "light"
     },
     "output_type": "display_data"
    }
   ],
   "source": [
    "sns.histplot(lot_frontage,kde=True)"
   ]
  },
  {
   "cell_type": "markdown",
   "id": "statewide-witch",
   "metadata": {},
   "source": [
    "#### Observaciones\n",
    "El arreglo contenia nan's fueron reemplazados por ceros"
   ]
  },
  {
   "cell_type": "markdown",
   "id": "dirty-internship",
   "metadata": {},
   "source": [
    "### Variables independientes"
   ]
  },
  {
   "cell_type": "code",
   "execution_count": 28,
   "id": "delayed-maryland",
   "metadata": {},
   "outputs": [
    {
     "data": {
      "image/png": "[encoded data removed]",
      "text/plain": [
       "<Figure size 432x288 with 1 Axes>"
      ]
     },
     "metadata": {
      "needs_background": "light"
     },
     "output_type": "display_data"
    }
   ],
   "source": [
    "x = first_floor\n",
    "y = sales_price\n",
    "plt.plot(x, y, 'o')\n",
    "m, b = np.polyfit(x, y, 1)\n",
    "plt.plot(x, m*x + b)\n",
    "r = np.corrcoef(x, y)\n",
    "plt.title('Coeficiente de correlacion: ' + str(r[1][0]))\n",
    "plt.show()"
   ]
  },
  {
   "cell_type": "code",
   "execution_count": 29,
   "id": "seventh-shield",
   "metadata": {},
   "outputs": [
    {
     "data": {
      "image/png": "[encoded data removed]",
      "text/plain": [
       "<Figure size 432x288 with 1 Axes>"
      ]
     },
     "metadata": {
      "needs_background": "light"
     },
     "output_type": "display_data"
    }
   ],
   "source": [
    "x = lot_frontage\n",
    "y = sales_price\n",
    "plt.plot(x, y, 'o')\n",
    "m, b = np.polyfit(x, y, 1)\n",
    "plt.plot(x, m*x + b)\n",
    "\n",
    "r = np.corrcoef(x, y)\n",
    "plt.title('Coeficiente de correlacion: ' + str(r[1][0]))\n",
    "plt.show()"
   ]
  },
  {
   "cell_type": "code",
   "execution_count": 30,
   "id": "elementary-buyer",
   "metadata": {},
   "outputs": [
    {
     "data": {
      "image/png": "[encoded data removed]",
      "text/plain": [
       "<Figure size 432x288 with 1 Axes>"
      ]
     },
     "metadata": {
      "needs_background": "light"
     },
     "output_type": "display_data"
    }
   ],
   "source": [
    "x = year_built\n",
    "y =  sales_price\n",
    "plt.plot(x, y, 'o')\n",
    "m, b = np.polyfit(x, y, 1)\n",
    "plt.plot(x, m*x + b)\n",
    "\n",
    "r = np.corrcoef(x, y)\n",
    "plt.title('Coeficiente de correlacion: ' + str(r[1][0]))\n",
    "plt.show()"
   ]
  },
  {
   "cell_type": "code",
   "execution_count": 31,
   "id": "ecological-commerce",
   "metadata": {},
   "outputs": [
    {
     "data": {
      "image/png": "[encoded data removed]",
      "text/plain": [
       "<Figure size 432x288 with 1 Axes>"
      ]
     },
     "metadata": {
      "needs_background": "light"
     },
     "output_type": "display_data"
    }
   ],
   "source": [
    "x = overall_qual\n",
    "y =  sales_price\n",
    "\n",
    "plt.plot(x, y, 'o')\n",
    "m, b = np.polyfit(x, y, 1)\n",
    "plt.plot(x, m*x + b)\n",
    "\n",
    "r = np.corrcoef(x, y)\n",
    "plt.title('Coeficiente de correlacion: ' + str(r[1][0]))\n",
    "plt.show()"
   ]
  },
  {
   "cell_type": "code",
   "execution_count": 32,
   "id": "hungry-essence",
   "metadata": {},
   "outputs": [
    {
     "data": {
      "image/png": "[encoded data removed]",
      "text/plain": [
       "<Figure size 432x288 with 1 Axes>"
      ]
     },
     "metadata": {
      "needs_background": "light"
     },
     "output_type": "display_data"
    }
   ],
   "source": [
    "x = total_rooms\n",
    "y =  sales_price\n",
    "\n",
    "plt.plot(x, y, 'o')\n",
    "m, b = np.polyfit(x, y, 1)\n",
    "plt.plot(x, m*x + b)\n",
    "\n",
    "r = np.corrcoef(x, y)\n",
    "plt.title('Coeficiente de correlacion: ' + str(r[1][0]))\n",
    "plt.show()"
   ]
  },
  {
   "cell_type": "markdown",
   "id": "parliamentary-state",
   "metadata": {},
   "source": [
    "## Regresion Lineal (y = mx + b)"
   ]
  },
  {
   "cell_type": "code",
   "execution_count": 33,
   "id": "false-lotus",
   "metadata": {},
   "outputs": [],
   "source": [
    "#x = np.array([65,80, 68])\n",
    "#y = np.array([208.5, 181.5, 223.5])\n",
    "x = np.array(overall_qual, dtype=float)\n",
    "y = np.array(sales_price, dtype=float)\n",
    "EPOCHS = 5000\n",
    "ERROR_CADA = 1\n",
    "learning_rate = 0.0001\n",
    "from numpy import inf\n",
    "def linear_regresion(x,y,EPOCHS, ERROR_CADA, learning_rate):\n",
    "   #Construimos una matriz apartir de x,y con la segunda columna siendo unos\n",
    "    x = np.column_stack((x,np.ones_like(x)))\n",
    "    m = 0\n",
    "    b = 0\n",
    "    dic = {}\n",
    "    errors = []\n",
    "    for iteration in range(1, EPOCHS + 1):        \n",
    "        m_b = np.array([m, b])\n",
    "        #Producto punto: matrix(x, 1) y array(m, b)\n",
    "        yhat = np.dot(x, m_b)\n",
    "        error = np.power((y-yhat),2)/2\n",
    "        average_error = np.mean(error)\n",
    "        # Gradient array m, b\n",
    "        gradient =  np.array([ np.mean((yhat - y)*x[:,0]), np.mean((yhat - y)*x[:,1]) ])  \n",
    "        m = m - learning_rate * gradient[0]\n",
    "        b = b - learning_rate * gradient[1]\n",
    "        m_b=[m, b]\n",
    "        errors.append(average_error)\n",
    "        dic[iteration] = m_b\n",
    "    return dic, errors, yhat\n",
    "\n",
    "(dic, errors, yhat) = linear_regresion(x,y,EPOCHS, ERROR_CADA, learning_rate)"
   ]
  },
  {
   "cell_type": "markdown",
   "id": "waiting-office",
   "metadata": {},
   "source": [
    "## Visualizacion en tiempo real del Error"
   ]
  },
  {
   "cell_type": "code",
   "execution_count": 34,
   "id": "assured-madagascar",
   "metadata": {},
   "outputs": [
    {
     "data": {
      "image/png": "[encoded data removed]",
      "text/plain": [
       "<Figure size 432x288 with 1 Axes>"
      ]
     },
     "metadata": {
      "needs_background": "light"
     },
     "output_type": "display_data"
    }
   ],
   "source": [
    "fig = plt.figure()\n",
    "ax = fig.add_subplot(1,1,1)\n",
    "#ax = fig.add_subplot(111) \n",
    "ax.plot(errors ,color=\"r\") \n",
    "ax.ticklabel_format(style='plain')\n",
    "ax.set_xlabel('iteracion')\n",
    "ax.set_ylabel('Error')\n",
    "ax.set_title('Errores')\n",
    "\n",
    "plt.show()"
   ]
  },
  {
   "cell_type": "markdown",
   "id": "effective-modern",
   "metadata": {},
   "source": [
    "## Entrenamiento del modelo"
   ]
  },
  {
   "cell_type": "code",
   "execution_count": 35,
   "id": "lasting-stamp",
   "metadata": {},
   "outputs": [],
   "source": [
    "def model_train(dic, n):\n",
    "    x =[]\n",
    "    y = []\n",
    "    for iteracion in range(n, len(dic)+1, n):\n",
    "        m = dic.get(iteracion)[0]\n",
    "        b = dic.get(iteracion)[1]\n",
    "        x.append(m)\n",
    "        y.append(b)\n",
    "    x = np.array(x)\n",
    "    y = np.array(y)\n",
    "    #print(x,y)\n",
    "    plt.plot(x, y, 'o')\n",
    "    m, b = np.polyfit(x, y, 1)\n",
    "    plt.plot(x, m*x + b)"
   ]
  },
  {
   "cell_type": "code",
   "execution_count": 36,
   "id": "express-mechanism",
   "metadata": {},
   "outputs": [
    {
     "data": {
      "image/png": "[encoded data removed]",
      "text/plain": [
       "<Figure size 432x288 with 1 Axes>"
      ]
     },
     "metadata": {
      "needs_background": "light"
     },
     "output_type": "display_data"
    }
   ],
   "source": [
    "model_train(dic, 2)"
   ]
  },
  {
   "cell_type": "code",
   "execution_count": 37,
   "id": "processed-transmission",
   "metadata": {},
   "outputs": [],
   "source": [
    "def sklearn_pred():\n",
    "    from sklearn.linear_model import LinearRegression\n",
    "    X = np.array(overall_qual, dtype=float).reshape(-1, 1) \n",
    "    y = np.array(sales_price, dtype=float).reshape(-1, 1) \n",
    "    reg = LinearRegression().fit(X, y)\n",
    "   # print(reg.score(X, y))\n",
    "    return reg.predict(X)"
   ]
  },
  {
   "cell_type": "code",
   "execution_count": 38,
   "id": "consolidated-conservation",
   "metadata": {},
   "outputs": [],
   "source": [
    "def prediccion_modelos(n):\n",
    "    mean = (sklearn_pred()[0:n] + yhat[0:n].reshape(n, 1))/2\n",
    "    return  yhat[0:n], sklearn_pred()[0:n], mean"
   ]
  },
  {
   "cell_type": "code",
   "execution_count": 39,
   "id": "related-orleans",
   "metadata": {},
   "outputs": [],
   "source": [
    "(prediccion_iterativo, prediccion_sklearn, prediccion_promedio)= prediccion_modelos(10)"
   ]
  },
  {
   "cell_type": "code",
   "execution_count": 40,
   "id": "moderate-newport",
   "metadata": {},
   "outputs": [
    {
     "data": {
      "text/plain": [
       "(array([212238.77719284, 182241.73626092, 212238.77719284, 212238.77719284,\n",
       "        242235.81812476, 152244.695329  , 242235.81812476, 212238.77719284,\n",
       "        212238.77719284, 152244.695329  ]),\n",
       " array([[221416.86976288],\n",
       "        [176005.0079771 ],\n",
       "        [221416.86976288],\n",
       "        [221416.86976288],\n",
       "        [266828.73154865],\n",
       "        [130593.14619133],\n",
       "        [266828.73154865],\n",
       "        [221416.86976288],\n",
       "        [221416.86976288],\n",
       "        [130593.14619133]]),\n",
       " array([[216827.82347786],\n",
       "        [179123.37211901],\n",
       "        [216827.82347786],\n",
       "        [216827.82347786],\n",
       "        [254532.27483671],\n",
       "        [141418.92076017],\n",
       "        [254532.27483671],\n",
       "        [216827.82347786],\n",
       "        [216827.82347786],\n",
       "        [141418.92076017]]))"
      ]
     },
     "execution_count": 40,
     "metadata": {},
     "output_type": "execute_result"
    }
   ],
   "source": [
    "prediccion_iterativo, prediccion_sklearn, prediccion_promedio"
   ]
  },
  {
   "cell_type": "markdown",
   "id": "dental-anime",
   "metadata": {},
   "source": [
    "## Datos de validacion (20%)"
   ]
  },
  {
   "cell_type": "markdown",
   "id": "ahead-ordering",
   "metadata": {},
   "source": [
    "### Variable dependiente"
   ]
  },
  {
   "cell_type": "code",
   "execution_count": 41,
   "id": "alternate-strand",
   "metadata": {},
   "outputs": [],
   "source": [
    "sales_price_test = test_data[:,0]"
   ]
  },
  {
   "cell_type": "markdown",
   "id": "signed-response",
   "metadata": {},
   "source": [
    "### Prediccion del modelo iterativo, sklearn y promedio de ambos"
   ]
  },
  {
   "cell_type": "markdown",
   "id": "colonial-victor",
   "metadata": {},
   "source": [
    "### Variable independiente"
   ]
  },
  {
   "cell_type": "code",
   "execution_count": 42,
   "id": "vital-thesis",
   "metadata": {},
   "outputs": [],
   "source": [
    "overall_qual_test = test_data[:,1]\n",
    "year_built_test = test_data[:,2]"
   ]
  },
  {
   "cell_type": "markdown",
   "id": "martial-aurora",
   "metadata": {},
   "source": [
    "### Error promedio modelo Iterativo"
   ]
  },
  {
   "cell_type": "code",
   "execution_count": 43,
   "id": "sufficient-eligibility",
   "metadata": {},
   "outputs": [],
   "source": [
    "x = np.array(overall_qual_test, dtype=float)\n",
    "y = np.array(sales_price_test, dtype=float)\n",
    "EPOCHS = 8000\n",
    "ERROR_CADA = 1\n",
    "learning_rate = 0.0001\n",
    "(dic_train, errores_train, yhat_train) = linear_regresion(x,y,EPOCHS, ERROR_CADA, learning_rate)\n",
    "error_promedio_iterativo =  np.mean(errores_train)"
   ]
  },
  {
   "cell_type": "code",
   "execution_count": 44,
   "id": "frank-estate",
   "metadata": {},
   "outputs": [
    {
     "name": "stdout",
     "output_type": "stream",
     "text": [
      "1842053546.2589228\n"
     ]
    }
   ],
   "source": [
    "print(error_promedio_iterativo)"
   ]
  },
  {
   "cell_type": "markdown",
   "id": "unnecessary-sunglasses",
   "metadata": {},
   "source": [
    "### Error promedio Sklearn"
   ]
  },
  {
   "cell_type": "code",
   "execution_count": 45,
   "id": "japanese-trademark",
   "metadata": {},
   "outputs": [
    {
     "name": "stdout",
     "output_type": "stream",
     "text": [
      "3089900074.463211\n"
     ]
    }
   ],
   "source": [
    "from sklearn.metrics import mean_squared_error\n",
    "error_promedio_sklearn = mean_squared_error(y, yhat_train)\n",
    "print(error_promedio_sklearn)"
   ]
  },
  {
   "cell_type": "markdown",
   "id": "musical-sussex",
   "metadata": {},
   "source": [
    "### Grafica de errores"
   ]
  },
  {
   "cell_type": "code",
   "execution_count": 48,
   "id": "wicked-organization",
   "metadata": {},
   "outputs": [
    {
     "data": {
      "image/png": "[encoded data removed]",
      "text/plain": [
       "<Figure size 864x576 with 1 Axes>"
      ]
     },
     "metadata": {
      "needs_background": "light"
     },
     "output_type": "display_data"
    }
   ],
   "source": [
    "# set width of bar\n",
    "barWidth = 0.25\n",
    "fig = plt.subplots(figsize =(12, 8))\n",
    "IT = [1]\n",
    "br1 = np.arange(len(IT))\n",
    "br2 = [x + barWidth for x in br1]\n",
    "br3 = [x + barWidth for x in br2]\n",
    " \n",
    "# Make the plot\n",
    "plt.bar(br1, error_promedio_iterativo, color ='r', width = barWidth,\n",
    "        edgecolor ='grey', label ='Error Iterativo')\n",
    "plt.bar(br2, error_promedio_sklearn, color ='b', width = barWidth,\n",
    "        edgecolor ='grey', label ='Error Sklearn')\n",
    "plt.ticklabel_format(style='plain')\n",
    "# Adding Xticks\n",
    "plt.xlabel('', fontweight ='bold', fontsize = 15)\n",
    "plt.ylabel('Error promedio', fontweight ='bold', fontsize = 15)\n",
    "\n",
    "plt.legend()\n",
    "plt.show()"
   ]
  },
  {
   "cell_type": "markdown",
   "id": "surrounded-stamp",
   "metadata": {},
   "source": [
    "### Conclusiones"
   ]
  },
  {
   "cell_type": "markdown",
   "id": "stone-violin",
   "metadata": {},
   "source": [
    "- Segun el analisis exploratorio de decidio trabajar con las variables overall_qual, sales_price\n",
    "- Para la funcion que se creo prediccion_modelos se puede observar como los modelos se comportan en cuanto a la prediccion\n",
    "- Para el error se creo una funcion que devuelve el error promedio de cada modelo en la grafica se puede observar el que el modelo iterativo despues de 8000 iteraciones es el que tiene el error mas bajo\n",
    "- La grafica de error en el tiempo llega un punto donde se estabiliza \n",
    "- Se recomienda utilizar el modelo iterativo ya que es el que presenta un error promedio mas bajo"
   ]
  },
  {
   "cell_type": "code",
   "execution_count": null,
   "id": "unable-glasgow",
   "metadata": {},
   "outputs": [],
   "source": []
  }
 ],
 "metadata": {
  "kernelspec": {
   "display_name": "Python 3",
   "language": "python",
   "name": "python3"
  },
  "language_info": {
   "codemirror_mode": {
    "name": "ipython",
    "version": 3
   },
   "file_extension": ".py",
   "mimetype": "text/x-python",
   "name": "python",
   "nbconvert_exporter": "python",
   "pygments_lexer": "ipython3",
   "version": "3.8.5"
  }
 },
 "nbformat": 4,
 "nbformat_minor": 5
}
