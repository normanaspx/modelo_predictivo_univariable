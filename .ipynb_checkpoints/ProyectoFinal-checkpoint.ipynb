{
 "cells": [
  {
   "cell_type": "markdown",
   "id": "editorial-tablet",
   "metadata": {},
   "source": [
    "# Proyecto Ciencia de datos en python"
   ]
  },
  {
   "cell_type": "markdown",
   "id": "unauthorized-ambassador",
   "metadata": {},
   "source": [
    "17001455 - Norman Daniel Vicente Orellana"
   ]
  },
  {
   "cell_type": "markdown",
   "id": "grand-cancellation",
   "metadata": {},
   "source": [
    "## Configuracion de entorno"
   ]
  },
  {
   "cell_type": "code",
   "execution_count": 2,
   "id": "descending-chester",
   "metadata": {},
   "outputs": [],
   "source": [
    "import numpy as np"
   ]
  },
  {
   "cell_type": "code",
   "execution_count": 113,
   "id": "sealed-responsibility",
   "metadata": {},
   "outputs": [],
   "source": [
    "import sklearn"
   ]
  },
  {
   "cell_type": "code",
   "execution_count": 4,
   "id": "preliminary-strategy",
   "metadata": {},
   "outputs": [],
   "source": [
    "import seaborn as sns"
   ]
  },
  {
   "cell_type": "code",
   "execution_count": 5,
   "id": "filled-gates",
   "metadata": {},
   "outputs": [],
   "source": [
    "import matplotlib.pyplot as plt"
   ]
  },
  {
   "cell_type": "markdown",
   "id": "classical-ordinance",
   "metadata": {},
   "source": [
    "## Cargando el dataset"
   ]
  },
  {
   "cell_type": "code",
   "execution_count": 6,
   "id": "vietnamese-civilian",
   "metadata": {},
   "outputs": [],
   "source": [
    "data = np.load('proyecto_training_data.npy')"
   ]
  },
  {
   "cell_type": "markdown",
   "id": "detailed-theme",
   "metadata": {},
   "source": [
    "## Analisis exploratorio de datos"
   ]
  },
  {
   "cell_type": "code",
   "execution_count": 7,
   "id": "streaming-guidance",
   "metadata": {},
   "outputs": [
    {
     "name": "stdout",
     "output_type": "stream",
     "text": [
      "Filas 1460 Columnas 6\n"
     ]
    }
   ],
   "source": [
    "dim = data.shape \n",
    "print('Filas',dim[0],'Columnas', dim[1])"
   ]
  },
  {
   "cell_type": "code",
   "execution_count": 8,
   "id": "herbal-sherman",
   "metadata": {},
   "outputs": [],
   "source": [
    "training_data = data[0:1167]\n",
    "test_data = data[1168:1460]"
   ]
  },
  {
   "cell_type": "code",
   "execution_count": 9,
   "id": "central-bikini",
   "metadata": {},
   "outputs": [
    {
     "name": "stdout",
     "output_type": "stream",
     "text": [
      "Training data: (1167, 6)\n",
      "Test data: (292, 6)\n"
     ]
    }
   ],
   "source": [
    "print('Training data:',training_data.shape)\n",
    "print('Test data:',test_data.shape)"
   ]
  },
  {
   "cell_type": "markdown",
   "id": "varied-resident",
   "metadata": {},
   "source": [
    "### Sale price"
   ]
  },
  {
   "cell_type": "code",
   "execution_count": 10,
   "id": "gorgeous-liverpool",
   "metadata": {},
   "outputs": [],
   "source": [
    "sales_price = data[:,0]"
   ]
  },
  {
   "cell_type": "code",
   "execution_count": 11,
   "id": "cheap-performance",
   "metadata": {},
   "outputs": [],
   "source": [
    "def measures(arr):\n",
    "    median = np.nanmean(arr)\n",
    "    min_value = np.nanmin(arr)\n",
    "    max_value = np.nanmax(arr)\n",
    "    range = np.ptp(arr)\n",
    "    desvest = np.nanstd(arr)\n",
    "    print('Media:',median,'\\nValor Max:',max_value,'\\nValor Minimo:',min_value,'\\nRango:',range,'\\nDesviacion estandar:', desvest)"
   ]
  },
  {
   "cell_type": "markdown",
   "id": "unexpected-illustration",
   "metadata": {},
   "source": [
    "#### Analisis"
   ]
  },
  {
   "cell_type": "code",
   "execution_count": 12,
   "id": "accessory-palmer",
   "metadata": {},
   "outputs": [
    {
     "name": "stdout",
     "output_type": "stream",
     "text": [
      "Media: 180921.19589041095 \n",
      "Valor Max: 755000.0 \n",
      "Valor Minimo: 34900.0 \n",
      "Rango: 720100.0 \n",
      "Desviacion estandar: 79415.29188606751\n"
     ]
    }
   ],
   "source": [
    "measures(sales_price)"
   ]
  },
  {
   "cell_type": "code",
   "execution_count": 13,
   "id": "humanitarian-siemens",
   "metadata": {},
   "outputs": [
    {
     "data": {
      "text/plain": [
       "<AxesSubplot:ylabel='Count'>"
      ]
     },
     "execution_count": 13,
     "metadata": {},
     "output_type": "execute_result"
    },
    {
     "data": {
      "image/png": "[encoded data removed]",
      "text/plain": [
       "<Figure size 432x288 with 1 Axes>"
      ]
     },
     "metadata": {
      "needs_background": "light"
     },
     "output_type": "display_data"
    }
   ],
   "source": [
    "sns.histplot(sales_price,kde=True)"
   ]
  },
  {
   "cell_type": "markdown",
   "id": "balanced-difference",
   "metadata": {},
   "source": [
    "### Overall Quality"
   ]
  },
  {
   "cell_type": "code",
   "execution_count": 14,
   "id": "explicit-reality",
   "metadata": {},
   "outputs": [],
   "source": [
    "overall_qual = data[:,1]"
   ]
  },
  {
   "cell_type": "markdown",
   "id": "frequent-tuning",
   "metadata": {},
   "source": [
    "#### Analisis"
   ]
  },
  {
   "cell_type": "code",
   "execution_count": 15,
   "id": "willing-metro",
   "metadata": {},
   "outputs": [
    {
     "name": "stdout",
     "output_type": "stream",
     "text": [
      "Media: 6.0993150684931505 \n",
      "Valor Max: 10.0 \n",
      "Valor Minimo: 1.0 \n",
      "Rango: 9.0 \n",
      "Desviacion estandar: 1.3825228366585953\n"
     ]
    }
   ],
   "source": [
    "measures(overall_qual)"
   ]
  },
  {
   "cell_type": "code",
   "execution_count": 16,
   "id": "filled-qatar",
   "metadata": {},
   "outputs": [
    {
     "data": {
      "text/plain": [
       "<AxesSubplot:ylabel='Count'>"
      ]
     },
     "execution_count": 16,
     "metadata": {},
     "output_type": "execute_result"
    },
    {
     "data": {
      "image/png": "[encoded data removed]",
      "text/plain": [
       "<Figure size 432x288 with 1 Axes>"
      ]
     },
     "metadata": {
      "needs_background": "light"
     },
     "output_type": "display_data"
    }
   ],
   "source": [
    "sns.histplot(overall_qual,discrete=True)"
   ]
  },
  {
   "cell_type": "markdown",
   "id": "freelance-locator",
   "metadata": {},
   "source": [
    "### First Floor square feet"
   ]
  },
  {
   "cell_type": "code",
   "execution_count": 17,
   "id": "natural-population",
   "metadata": {},
   "outputs": [],
   "source": [
    "first_floor = data[:,2]"
   ]
  },
  {
   "cell_type": "markdown",
   "id": "excess-income",
   "metadata": {},
   "source": [
    "#### Analisis"
   ]
  },
  {
   "cell_type": "code",
   "execution_count": 18,
   "id": "classical-sleeve",
   "metadata": {},
   "outputs": [
    {
     "name": "stdout",
     "output_type": "stream",
     "text": [
      "Media: 1162.626712328767 \n",
      "Valor Max: 4692.0 \n",
      "Valor Minimo: 334.0 \n",
      "Rango: 4358.0 \n",
      "Desviacion estandar: 386.45532230228963\n"
     ]
    }
   ],
   "source": [
    "measures(first_floor)"
   ]
  },
  {
   "cell_type": "code",
   "execution_count": 19,
   "id": "unavailable-federal",
   "metadata": {},
   "outputs": [
    {
     "data": {
      "text/plain": [
       "<AxesSubplot:ylabel='Count'>"
      ]
     },
     "execution_count": 19,
     "metadata": {},
     "output_type": "execute_result"
    },
    {
     "data": {
      "image/png": "[encoded data removed]",
      "text/plain": [
       "<Figure size 432x288 with 1 Axes>"
      ]
     },
     "metadata": {
      "needs_background": "light"
     },
     "output_type": "display_data"
    }
   ],
   "source": [
    "sns.histplot(first_floor,kde=True)"
   ]
  },
  {
   "cell_type": "markdown",
   "id": "defined-piano",
   "metadata": {},
   "source": [
    "### Total Rooms"
   ]
  },
  {
   "cell_type": "code",
   "execution_count": 20,
   "id": "distributed-bahrain",
   "metadata": {},
   "outputs": [],
   "source": [
    "total_rooms = data[:,3]"
   ]
  },
  {
   "cell_type": "markdown",
   "id": "respective-cookie",
   "metadata": {},
   "source": [
    "#### Analisis"
   ]
  },
  {
   "cell_type": "code",
   "execution_count": 21,
   "id": "institutional-bargain",
   "metadata": {},
   "outputs": [
    {
     "name": "stdout",
     "output_type": "stream",
     "text": [
      "Media: 6.517808219178082 \n",
      "Valor Max: 14.0 \n",
      "Valor Minimo: 2.0 \n",
      "Rango: 12.0 \n",
      "Desviacion estandar: 1.624836553698191\n"
     ]
    }
   ],
   "source": [
    "measures(total_rooms)"
   ]
  },
  {
   "cell_type": "code",
   "execution_count": 23,
   "id": "funny-direction",
   "metadata": {},
   "outputs": [
    {
     "data": {
      "text/plain": [
       "<AxesSubplot:ylabel='Count'>"
      ]
     },
     "execution_count": 23,
     "metadata": {},
     "output_type": "execute_result"
    },
    {
     "data": {
      "image/png": "[encoded data removed]",
      "text/plain": [
       "<Figure size 432x288 with 1 Axes>"
      ]
     },
     "metadata": {
      "needs_background": "light"
     },
     "output_type": "display_data"
    }
   ],
   "source": [
    "sns.histplot(total_rooms, discrete=True)"
   ]
  },
  {
   "cell_type": "markdown",
   "id": "hungry-guinea",
   "metadata": {},
   "source": [
    "#### Observaciones\n",
    "Existen un dato atipico que es 856"
   ]
  },
  {
   "cell_type": "markdown",
   "id": "abroad-empty",
   "metadata": {},
   "source": [
    "### Year Built"
   ]
  },
  {
   "cell_type": "code",
   "execution_count": 79,
   "id": "super-contest",
   "metadata": {},
   "outputs": [],
   "source": [
    "year_built = data[:, 4]"
   ]
  },
  {
   "cell_type": "markdown",
   "id": "earned-pattern",
   "metadata": {},
   "source": [
    "#### Analisis"
   ]
  },
  {
   "cell_type": "code",
   "execution_count": 80,
   "id": "greatest-night",
   "metadata": {},
   "outputs": [
    {
     "name": "stdout",
     "output_type": "stream",
     "text": [
      "Media: 1971.267808219178 \n",
      "Valor Max: 2010.0 \n",
      "Valor Minimo: 1872.0 \n",
      "Rango: 138.0 \n",
      "Desviacion estandar: 30.192558810489448\n"
     ]
    }
   ],
   "source": [
    "measures(year_built)"
   ]
  },
  {
   "cell_type": "code",
   "execution_count": 84,
   "id": "modular-depth",
   "metadata": {},
   "outputs": [
    {
     "data": {
      "text/plain": [
       "<AxesSubplot:ylabel='Count'>"
      ]
     },
     "execution_count": 84,
     "metadata": {},
     "output_type": "execute_result"
    },
    {
     "data": {
      "image/png": "[encoded data removed]",
      "text/plain": [
       "<Figure size 432x288 with 1 Axes>"
      ]
     },
     "metadata": {
      "needs_background": "light"
     },
     "output_type": "display_data"
    }
   ],
   "source": [
    "sns.histplot(year_built)"
   ]
  },
  {
   "cell_type": "markdown",
   "id": "hungarian-acrylic",
   "metadata": {},
   "source": [
    "### LotFrontage"
   ]
  },
  {
   "cell_type": "code",
   "execution_count": 102,
   "id": "improving-missouri",
   "metadata": {},
   "outputs": [],
   "source": [
    "lot_frontage =np.nan_to_num(data[:, 5])"
   ]
  },
  {
   "cell_type": "markdown",
   "id": "cubic-subscription",
   "metadata": {},
   "source": [
    "#### Analisis\n"
   ]
  },
  {
   "cell_type": "code",
   "execution_count": 104,
   "id": "engaging-display",
   "metadata": {},
   "outputs": [
    {
     "name": "stdout",
     "output_type": "stream",
     "text": [
      "Media: 57.62328767123287 \n",
      "Valor Max: 313.0 \n",
      "Valor Minimo: 0.0 \n",
      "Rango: 313.0 \n",
      "Desviacion estandar: 34.65243086038386\n"
     ]
    }
   ],
   "source": [
    "measures(lot_frontage)"
   ]
  },
  {
   "cell_type": "code",
   "execution_count": 106,
   "id": "regulation-buffalo",
   "metadata": {},
   "outputs": [
    {
     "data": {
      "text/plain": [
       "<AxesSubplot:ylabel='Count'>"
      ]
     },
     "execution_count": 106,
     "metadata": {},
     "output_type": "execute_result"
    },
    {
     "data": {
      "image/png": "[encoded data removed]",
      "text/plain": [
       "<Figure size 432x288 with 1 Axes>"
      ]
     },
     "metadata": {
      "needs_background": "light"
     },
     "output_type": "display_data"
    }
   ],
   "source": [
    "sns.histplot(lot_frontage,kde=True)"
   ]
  },
  {
   "cell_type": "markdown",
   "id": "working-nowhere",
   "metadata": {},
   "source": [
    "#### Observaciones\n",
    "El arreglo contenia nan's fueron reemplazados por ceros"
   ]
  },
  {
   "cell_type": "markdown",
   "id": "adaptive-situation",
   "metadata": {},
   "source": [
    "### Variables independientes"
   ]
  },
  {
   "cell_type": "code",
   "execution_count": 129,
   "id": "promotional-trouble",
   "metadata": {},
   "outputs": [
    {
     "data": {
      "image/png": "[encoded data removed]",
      "text/plain": [
       "<Figure size 432x288 with 1 Axes>"
      ]
     },
     "metadata": {
      "needs_background": "light"
     },
     "output_type": "display_data"
    }
   ],
   "source": [
    "x = year_built\n",
    "y = sales_price\n",
    "\n",
    "plt.scatter(x, y)\n",
    "plt.show()"
   ]
  },
  {
   "cell_type": "code",
   "execution_count": 133,
   "id": "familiar-kingdom",
   "metadata": {},
   "outputs": [
    {
     "data": {
      "image/png": "[encoded data removed]",
      "text/plain": [
       "<Figure size 432x288 with 1 Axes>"
      ]
     },
     "metadata": {
      "needs_background": "light"
     },
     "output_type": "display_data"
    }
   ],
   "source": [
    "x = overall_qual\n",
    "y = sales_price\n",
    "\n",
    "plt.scatter(x, y)\n",
    "plt.show()"
   ]
  },
  {
   "cell_type": "code",
   "execution_count": 131,
   "id": "statutory-recommendation",
   "metadata": {},
   "outputs": [
    {
     "data": {
      "image/png": "[encoded data removed]",
      "text/plain": [
       "<Figure size 432x288 with 1 Axes>"
      ]
     },
     "metadata": {
      "needs_background": "light"
     },
     "output_type": "display_data"
    }
   ],
   "source": [
    "x = year_built\n",
    "y =  overall_qual\n",
    "\n",
    "plt.scatter(x, y)\n",
    "plt.show()"
   ]
  },
  {
   "cell_type": "code",
   "execution_count": 135,
   "id": "beneficial-ancient",
   "metadata": {},
   "outputs": [
    {
     "data": {
      "image/png": "[encoded data removed]",
      "text/plain": [
       "<Figure size 432x288 with 1 Axes>"
      ]
     },
     "metadata": {
      "needs_background": "light"
     },
     "output_type": "display_data"
    }
   ],
   "source": [
    "x = total_rooms\n",
    "y =  sales_price\n",
    "\n",
    "plt.scatter(x, y)\n",
    "plt.show()"
   ]
  },
  {
   "cell_type": "code",
   "execution_count": null,
   "id": "photographic-california",
   "metadata": {},
   "outputs": [],
   "source": []
  }
 ],
 "metadata": {
  "kernelspec": {
   "display_name": "Python 3",
   "language": "python",
   "name": "python3"
  },
  "language_info": {
   "codemirror_mode": {
    "name": "ipython",
    "version": 3
   },
   "file_extension": ".py",
   "mimetype": "text/x-python",
   "name": "python",
   "nbconvert_exporter": "python",
   "pygments_lexer": "ipython3",
   "version": "3.8.5"
  }
 },
 "nbformat": 4,
 "nbformat_minor": 5
}
